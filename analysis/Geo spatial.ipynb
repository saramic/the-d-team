{
 "cells": [
  {
   "cell_type": "code",
   "execution_count": 7,
   "metadata": {},
   "outputs": [
    {
     "name": "stdout",
     "output_type": "stream",
     "text": [
      "Waiting for job to complete...\n"
     ]
    },
    {
     "data": {
      "text/html": [
       "<div>\n",
       "<table border=\"1\" class=\"dataframe\">\n",
       "  <thead>\n",
       "    <tr style=\"text-align: right;\">\n",
       "      <th></th>\n",
       "      <th>t_lipitor_year</th>\n",
       "      <th>t_lipitor_patient_id</th>\n",
       "      <th>p_postcode</th>\n",
       "      <th>pc_lat</th>\n",
       "      <th>pc_lon</th>\n",
       "    </tr>\n",
       "  </thead>\n",
       "  <tbody>\n",
       "    <tr>\n",
       "      <th>0</th>\n",
       "      <td>2016</td>\n",
       "      <td>174367</td>\n",
       "      <td>2168</td>\n",
       "      <td>-33.917587</td>\n",
       "      <td>150.899095</td>\n",
       "    </tr>\n",
       "    <tr>\n",
       "      <th>1</th>\n",
       "      <td>2016</td>\n",
       "      <td>114079</td>\n",
       "      <td>4350</td>\n",
       "      <td>-27.600764</td>\n",
       "      <td>151.914462</td>\n",
       "    </tr>\n",
       "    <tr>\n",
       "      <th>2</th>\n",
       "      <td>2016</td>\n",
       "      <td>249835</td>\n",
       "      <td>3178</td>\n",
       "      <td>-37.928005</td>\n",
       "      <td>145.235811</td>\n",
       "    </tr>\n",
       "  </tbody>\n",
       "</table>\n",
       "</div>"
      ],
      "text/plain": [
       "   t_lipitor_year  t_lipitor_patient_id  p_postcode     pc_lat      pc_lon\n",
       "0            2016                174367        2168 -33.917587  150.899095\n",
       "1            2016                114079        4350 -27.600764  151.914462\n",
       "2            2016                249835        3178 -37.928005  145.235811"
      ]
     },
     "execution_count": 7,
     "metadata": {},
     "output_type": "execute_result"
    }
   ],
   "source": [
    "import pandas as pd\n",
    "import gmaps\n",
    "import gmaps.datasets\n",
    "import os\n",
    "\n",
    "project_id = \"the-d-team-164512\"\n",
    "gmaps.configure(api_key=os.environ['GMAP_API_THE_D_TEAM'])\n",
    "\n",
    "query = \"\"\"\\\n",
    "SELECT\n",
    "t_lipitor.year\n",
    ", t_lipitor.patient_id\n",
    ", p.postcode\n",
    ", pc.lat\n",
    ", pc.lon\n",
    "FROM(\n",
    "SELECT\n",
    "  t.Patient_ID AS patient_id\n",
    "  , YEAR(DATE(t.Dispense_Week)) AS year\n",
    "FROM [the-d-team-164512:dthon.transactions] t\n",
    "JOIN [the-d-team-164512:dthon.drug_lookup] d\n",
    "ON t.Drug_ID = d.MasterProductID\n",
    "WHERE\n",
    "  d.BrandName = 'LIPITOR'\n",
    "GROUP BY\n",
    "  patient_id\n",
    "  , year\n",
    ") t_lipitor\n",
    "JOIN [the-d-team-164512:dthon.patients_lookup] p\n",
    "ON t_lipitor.Patient_ID = p.Patient_ID\n",
    "LEFT JOIN (\n",
    "  SELECT postcode, FIRST(lat) AS lat, FIRST(lon) AS lon\n",
    "  FROM [the-d-team-164512:dthon.postcodes]\n",
    "  GROUP BY postcode\n",
    "  ) pc\n",
    "ON p.postcode = pc.postcode\n",
    "ORDER BY year ASC\n",
    "\"\"\"\n",
    "\n",
    "df = pd.read_gbq(query, project_id)\n",
    "df.head(3)"
   ]
  },
  {
   "cell_type": "code",
   "execution_count": 58,
   "metadata": {},
   "outputs": [
    {
     "data": {
      "application/vnd.jupyter.widget-view+json": {
       "model_id": "df865b497bc9419eb6ee942b6a65d196"
      }
     },
     "metadata": {},
     "output_type": "display_data"
    }
   ],
   "source": [
    "\n",
    "locations = df[['pc_lat', 'pc_lon']]\n",
    "locations = locations.dropna() # presumably due to not found postcode\n",
    "\n",
    "m = gmaps.Map()\n",
    "heatmap_layer = gmaps.heatmap_layer(locations)\n",
    "heatmap_layer.max_intensity = 100 # prevent dissaption on zoom\n",
    "heatmap_layer.point_radius = 5\n",
    "m.add_layer(heatmap_layer)\n",
    "m"
   ]
  },
  {
   "cell_type": "code",
   "execution_count": 59,
   "metadata": {},
   "outputs": [
    {
     "data": {
      "application/vnd.jupyter.widget-view+json": {
       "model_id": "78c60d3c69574bc08c4fd66e671c8e33"
      }
     },
     "metadata": {},
     "output_type": "display_data"
    }
   ],
   "source": [
    "m = gmaps.Map()\n",
    "heatmap_layer_2011 = gmaps.heatmap_layer(df[df['t_lipitor_year'] == 2011][['pc_lat', 'pc_lon']].dropna())\n",
    "heatmap_layer_2011.max_intensity = 100 # prevent dissaption on zoom\n",
    "heatmap_layer_2011.point_radius = 10\n",
    "m.add_layer(heatmap_layer_2011)\n",
    "\n",
    "# TODO is there a way to have mutliple layers and turn them on and off??? and have each year in layers? or animate\n",
    "# heatmap_layer_2016 = gmaps.heatmap_layer(df[df['t_lipitor_year'] == 2016][['pc_lat', 'pc_lon']].dropna())\n",
    "# heatmap_layer_2016.max_intensity = 100 # prevent dissaption on zoom\n",
    "# heatmap_layer_2016.point_radius = 5\n",
    "# m.add_layer(heatmap_layer_2016)\n",
    "m"
   ]
  },
  {
   "cell_type": "code",
   "execution_count": 60,
   "metadata": {},
   "outputs": [
    {
     "data": {
      "application/vnd.jupyter.widget-view+json": {
       "model_id": "146d524766df4a99830801d8a9dcaf39"
      }
     },
     "metadata": {},
     "output_type": "display_data"
    }
   ],
   "source": [
    "m = gmaps.Map()\n",
    "heatmap_layer_2016 = gmaps.heatmap_layer(df[df['t_lipitor_year'] == 2015][['pc_lat', 'pc_lon']].dropna())\n",
    "heatmap_layer_2016.max_intensity = 100 # prevent dissaption on zoom\n",
    "heatmap_layer_2016.point_radius = 10\n",
    "m.add_layer(heatmap_layer_2016)\n",
    "m"
   ]
  }
 ],
 "metadata": {
  "kernelspec": {
   "display_name": "Python 3",
   "language": "python",
   "name": "python3"
  },
  "language_info": {
   "codemirror_mode": {
    "name": "ipython",
    "version": 3
   },
   "file_extension": ".py",
   "mimetype": "text/x-python",
   "name": "python",
   "nbconvert_exporter": "python",
   "pygments_lexer": "ipython3",
   "version": "3.5.1"
  }
 },
 "nbformat": 4,
 "nbformat_minor": 2
}
