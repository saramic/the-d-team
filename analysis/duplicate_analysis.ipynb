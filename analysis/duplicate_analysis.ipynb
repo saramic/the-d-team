{
 "cells": [
  {
   "cell_type": "code",
   "execution_count": 2,
   "metadata": {},
   "outputs": [],
   "source": [
    "import pandas as pd\n",
    "from ggplot import *\n",
    "\n",
    "project_id = \"the-d-team-164512\""
   ]
  },
  {
   "cell_type": "code",
   "execution_count": 13,
   "metadata": {},
   "outputs": [],
   "source": [
    "query =\"\"\"\n",
    "    with p as (\n",
    "    select  pat_state, count(distinct patient_id) as pat_dup_cnt\n",
    "    from dthon.duplicates_enriched\n",
    "    group by pat_state),\n",
    "    p_l as (\n",
    "    select count(distinct patient_id) as pat_cnt, LPAD(LPAD(CAST(postcode as string),4,'0'), 1) as pat_state2\n",
    "    from dthon.patients_lookup\n",
    "    group by pat_state2),\n",
    "    s as (\n",
    "    select count(distinct store_id) as str_dup_cnt, str_state\n",
    "    from dthon.duplicates_enriched\n",
    "    group by str_state),\n",
    "    s_l as (\n",
    "    select count(distinct store_id) as str_cnt, LPAD(LPAD(CAST(postcode as string),4,'0'), 1) as str_state2\n",
    "    from dthon.stores_lookup\n",
    "    group by str_state2)\n",
    "    select p.*, p_l.pat_cnt, s.str_dup_cnt, s_l.str_cnt\n",
    "    from p\n",
    "    left join p_l\n",
    "    on p.pat_state = p_l.pat_state2\n",
    "    left join s\n",
    "    on p.pat_state = s.str_state\n",
    "    left join s_l\n",
    "    on p.pat_state = s_l.str_state2\n",
    "  \"\"\"\n"
   ]
  },
  {
   "cell_type": "markdown",
   "metadata": {},
   "source": [
    "First we would like to check whether all tasmanian patients have duplicates and all tasmanian stores also."
   ]
  },
  {
   "cell_type": "code",
   "execution_count": 11,
   "metadata": {},
   "outputs": [
    {
     "name": "stdout",
     "output_type": "stream",
     "text": [
      "Requesting query... ok.\n",
      "Query running...\n",
      "Query done.\n",
      "Processed: 49.6 Mb\n",
      "\n",
      "Retrieving results...\n",
      "  Got page: 1; 100% done. Elapsed 10.96 s.\n",
      "Got 7 rows.\n",
      "\n",
      "Total time taken 10.97 s.\n",
      "Finished at 2017-04-21 00:27:48.\n"
     ]
    },
    {
     "data": {
      "text/html": [
       "<div>\n",
       "<table border=\"1\" class=\"dataframe\">\n",
       "  <thead>\n",
       "    <tr style=\"text-align: right;\">\n",
       "      <th></th>\n",
       "      <th>pat_state</th>\n",
       "      <th>pat_dup_cnt</th>\n",
       "      <th>pat_cnt</th>\n",
       "      <th>str_dup_cnt</th>\n",
       "      <th>str_cnt</th>\n",
       "    </tr>\n",
       "  </thead>\n",
       "  <tbody>\n",
       "    <tr>\n",
       "      <th>0</th>\n",
       "      <td>3</td>\n",
       "      <td>602</td>\n",
       "      <td>180800</td>\n",
       "      <td>496</td>\n",
       "      <td>774</td>\n",
       "    </tr>\n",
       "    <tr>\n",
       "      <th>1</th>\n",
       "      <td>2</td>\n",
       "      <td>1588</td>\n",
       "      <td>201586</td>\n",
       "      <td>694</td>\n",
       "      <td>1085</td>\n",
       "    </tr>\n",
       "    <tr>\n",
       "      <th>2</th>\n",
       "      <td>5</td>\n",
       "      <td>155</td>\n",
       "      <td>36478</td>\n",
       "      <td>130</td>\n",
       "      <td>192</td>\n",
       "    </tr>\n",
       "    <tr>\n",
       "      <th>3</th>\n",
       "      <td>4</td>\n",
       "      <td>287</td>\n",
       "      <td>98990</td>\n",
       "      <td>358</td>\n",
       "      <td>487</td>\n",
       "    </tr>\n",
       "    <tr>\n",
       "      <th>4</th>\n",
       "      <td>6</td>\n",
       "      <td>82</td>\n",
       "      <td>20972</td>\n",
       "      <td>86</td>\n",
       "      <td>180</td>\n",
       "    </tr>\n",
       "    <tr>\n",
       "      <th>5</th>\n",
       "      <td>7</td>\n",
       "      <td>19078</td>\n",
       "      <td>19078</td>\n",
       "      <td>72</td>\n",
       "      <td>73</td>\n",
       "    </tr>\n",
       "    <tr>\n",
       "      <th>6</th>\n",
       "      <td>0</td>\n",
       "      <td>15</td>\n",
       "      <td>448</td>\n",
       "      <td>24</td>\n",
       "      <td>30</td>\n",
       "    </tr>\n",
       "  </tbody>\n",
       "</table>\n",
       "</div>"
      ],
      "text/plain": [
       "  pat_state  pat_dup_cnt  pat_cnt  str_dup_cnt  str_cnt\n",
       "0         3          602   180800          496      774\n",
       "1         2         1588   201586          694     1085\n",
       "2         5          155    36478          130      192\n",
       "3         4          287    98990          358      487\n",
       "4         6           82    20972           86      180\n",
       "5         7        19078    19078           72       73\n",
       "6         0           15      448           24       30"
      ]
     },
     "execution_count": 11,
     "metadata": {},
     "output_type": "execute_result"
    }
   ],
   "source": [
    "dup_pat_str = pd.read_gbq(query, project_id,dialect='standard')\n",
    "dup_pat_str"
   ]
  },
  {
   "cell_type": "markdown",
   "metadata": {},
   "source": [
    "We see that one store doesn't generate duplicates (tasmania - 7). Which one it is and whether it has any transactions"
   ]
  },
  {
   "cell_type": "code",
   "execution_count": 14,
   "metadata": {},
   "outputs": [
    {
     "name": "stdout",
     "output_type": "stream",
     "text": [
      "Requesting query... ok.\n",
      "Query running...\n",
      "Query done.\n",
      "Processed: 20.5 Mb\n",
      "\n",
      "Retrieving results...\n",
      "Got 1 rows.\n",
      "\n",
      "Total time taken 4.64 s.\n",
      "Finished at 2017-04-21 00:35:49.\n"
     ]
    },
    {
     "data": {
      "text/html": [
       "<div>\n",
       "<table border=\"1\" class=\"dataframe\">\n",
       "  <thead>\n",
       "    <tr style=\"text-align: right;\">\n",
       "      <th></th>\n",
       "      <th>str_cnt</th>\n",
       "    </tr>\n",
       "  </thead>\n",
       "  <tbody>\n",
       "    <tr>\n",
       "      <th>0</th>\n",
       "      <td>1307</td>\n",
       "    </tr>\n",
       "  </tbody>\n",
       "</table>\n",
       "</div>"
      ],
      "text/plain": [
       "   str_cnt\n",
       "0     1307"
      ]
     },
     "execution_count": 14,
     "metadata": {},
     "output_type": "execute_result"
    }
   ],
   "source": [
    "query = \"\"\"\n",
    "select distinct store_id as str_cnt\n",
    "from dthon.stores_lookup\n",
    "where LPAD(LPAD(CAST(postcode as string),4,'0'), 1) = '7'\n",
    "and store_id not in (select distinct store_id as str_dup_cnt\n",
    "from dthon.duplicates_enriched\n",
    "where str_state = '7')\n",
    "\"\"\"\n",
    "store_no_dup = pd.read_gbq(query, project_id,dialect='standard')\n",
    "store_no_dup  "
   ]
  },
  {
   "cell_type": "code",
   "execution_count": 15,
   "metadata": {},
   "outputs": [
    {
     "name": "stdout",
     "output_type": "stream",
     "text": [
      "Requesting query... ok.\n",
      "Query running...\n",
      "Query done.\n",
      "Processed: 907.1 Mb\n",
      "\n",
      "Retrieving results...\n",
      "Got 0 rows.\n",
      "\n",
      "Total time taken 3.88 s.\n",
      "Finished at 2017-04-21 00:35:57.\n"
     ]
    },
    {
     "data": {
      "text/html": [
       "<div>\n",
       "<table border=\"1\" class=\"dataframe\">\n",
       "  <thead>\n",
       "    <tr style=\"text-align: right;\">\n",
       "      <th></th>\n",
       "      <th>Patient_ID</th>\n",
       "    </tr>\n",
       "  </thead>\n",
       "  <tbody>\n",
       "  </tbody>\n",
       "</table>\n",
       "</div>"
      ],
      "text/plain": [
       "Empty DataFrame\n",
       "Columns: [Patient_ID]\n",
       "Index: []"
      ]
     },
     "execution_count": 15,
     "metadata": {},
     "output_type": "execute_result"
    }
   ],
   "source": [
    "query = \"\"\"\n",
    "select Patient_ID\n",
    "from dthon.transactions\n",
    "where Store_ID = 1307\n",
    "\"\"\"\n",
    "store_1307 = pd.read_gbq(query, project_id,dialect='standard')\n",
    "store_1307 "
   ]
  },
  {
   "cell_type": "markdown",
   "metadata": {},
   "source": [
    "That explains why there were no duplicates. On the other hand side:\n",
    "* why is there a store without transactions\n",
    "* how many are there\n",
    "\n",
    "Before  that, let's check if all transactions from all tasmanian stores are duplicated."
   ]
  },
  {
   "cell_type": "code",
   "execution_count": 16,
   "metadata": {},
   "outputs": [
    {
     "name": "stdout",
     "output_type": "stream",
     "text": [
      "Requesting query... ok.\n",
      "Query running...\n",
      "Query done.\n",
      "Processed: 474.1 Mb\n",
      "\n",
      "Retrieving results...\n",
      "Got 8 rows.\n",
      "\n",
      "Total time taken 6.07 s.\n",
      "Finished at 2017-04-21 00:48:58.\n"
     ]
    },
    {
     "data": {
      "text/html": [
       "<div>\n",
       "<table border=\"1\" class=\"dataframe\">\n",
       "  <thead>\n",
       "    <tr style=\"text-align: right;\">\n",
       "      <th></th>\n",
       "      <th>str_state</th>\n",
       "      <th>cnt_dup</th>\n",
       "      <th>cnt_all</th>\n",
       "    </tr>\n",
       "  </thead>\n",
       "  <tbody>\n",
       "    <tr>\n",
       "      <th>0</th>\n",
       "      <td>7</td>\n",
       "      <td>3785978</td>\n",
       "      <td>3835232.0</td>\n",
       "    </tr>\n",
       "    <tr>\n",
       "      <th>1</th>\n",
       "      <td>4</td>\n",
       "      <td>14263</td>\n",
       "      <td>9489847.0</td>\n",
       "    </tr>\n",
       "    <tr>\n",
       "      <th>2</th>\n",
       "      <td>0</td>\n",
       "      <td>2066</td>\n",
       "      <td>68213.0</td>\n",
       "    </tr>\n",
       "    <tr>\n",
       "      <th>3</th>\n",
       "      <td>3</td>\n",
       "      <td>17902</td>\n",
       "      <td>19325433.0</td>\n",
       "    </tr>\n",
       "    <tr>\n",
       "      <th>4</th>\n",
       "      <td>6</td>\n",
       "      <td>2181</td>\n",
       "      <td>1902308.0</td>\n",
       "    </tr>\n",
       "    <tr>\n",
       "      <th>5</th>\n",
       "      <td>None</td>\n",
       "      <td>60906</td>\n",
       "      <td>NaN</td>\n",
       "    </tr>\n",
       "    <tr>\n",
       "      <th>6</th>\n",
       "      <td>2</td>\n",
       "      <td>28368</td>\n",
       "      <td>21234352.0</td>\n",
       "    </tr>\n",
       "    <tr>\n",
       "      <th>7</th>\n",
       "      <td>5</td>\n",
       "      <td>4769</td>\n",
       "      <td>3532609.0</td>\n",
       "    </tr>\n",
       "  </tbody>\n",
       "</table>\n",
       "</div>"
      ],
      "text/plain": [
       "  str_state  cnt_dup     cnt_all\n",
       "0         7  3785978   3835232.0\n",
       "1         4    14263   9489847.0\n",
       "2         0     2066     68213.0\n",
       "3         3    17902  19325433.0\n",
       "4         6     2181   1902308.0\n",
       "5      None    60906         NaN\n",
       "6         2    28368  21234352.0\n",
       "7         5     4769   3532609.0"
      ]
     },
     "execution_count": 16,
     "metadata": {},
     "output_type": "execute_result"
    }
   ],
   "source": [
    "query = \"\"\"\n",
    "with tr as (\n",
    "select count(1) as cnt_all, LPAD(LPAD(CAST(postcode as string),4,'0'), 1) as state\n",
    "from dthon.transactions tr\n",
    "Left join dthon.stores_lookup as sl\n",
    "on sl.Store_id = tr.Store_ID\n",
    "group by state\n",
    "), dup as (\n",
    "select str_state, sum(cnt) as cnt_dup\n",
    "from dthon.duplicates_enriched \n",
    "group by str_state\n",
    ")\n",
    "select dup.*, tr.cnt_all\n",
    "from dup\n",
    "left join tr\n",
    "on tr.state = dup.str_state\n",
    "\"\"\"\n",
    "dup_tr_region = pd.read_gbq(query, project_id,dialect='standard')\n",
    "dup_tr_region"
   ]
  },
  {
   "cell_type": "markdown",
   "metadata": {},
   "source": [
    "There are some stores with no state assigned:\n",
    "* wrong query to create duplicates dataset?\n",
    "* stores without postcode in lookup?\n",
    "* stores in transactions without foreign code in lookup file?"
   ]
  },
  {
   "cell_type": "code",
   "execution_count": null,
   "metadata": {
    "collapsed": true
   },
   "outputs": [],
   "source": []
  }
 ],
 "metadata": {
  "kernelspec": {
   "display_name": "Python 3",
   "language": "python",
   "name": "python3"
  },
  "language_info": {
   "codemirror_mode": {
    "name": "ipython",
    "version": 3
   },
   "file_extension": ".py",
   "mimetype": "text/x-python",
   "name": "python",
   "nbconvert_exporter": "python",
   "pygments_lexer": "ipython3",
   "version": "3.6.1"
  }
 },
 "nbformat": 4,
 "nbformat_minor": 2
}
