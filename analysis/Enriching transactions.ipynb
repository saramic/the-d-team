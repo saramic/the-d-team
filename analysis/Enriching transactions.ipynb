{
 "cells": [
  {
   "cell_type": "markdown",
   "metadata": {},
   "source": [
    "##To do:\n",
    "1. Dealing with nulls on foreign keys(if applicable) (Done)\n",
    "2. Joining variables + Mark which variables are continuous/categorical (rename to start with cat)(in progress)\n",
    "3. Adjust columns:\n",
    "+ Mine data from Strength_Code (Done)\n",
    "+ adjust Script/Dispense_Qty\n",
    "+ multiply unit with ddd for uniform representation (Done)\n",
    "4. Check which variables to leave:\n",
    "+ Contigious data - nulls < 50%\n",
    "+ from postcodes: state, lat, lon, (regional_cat as both cont and cat) (Done)\n",
    "+ Not too many subgroups < 20 - script running through a variable:\n",
    "    + Check amount of columns\n",
    "    + For each column select distinct\n",
    "    + If <20 check distribution between groups - bar plot\n",
    "    + If continuous data - create boxplot\n",
    "+ Not repeated throughout the set\n",
    "5. Create additional features\n",
    "+ Year (cont) (Done)\n",
    "+ Month (cat) (Done)\n",
    "+ Season (cat)\n",
    "+ Date(Year+Month) (cont) (Done)\n",
    "\n",
    "6. Analyse correlations between variables:\n",
    "+ covariance matrix (heatmap) - for continuous\n",
    "+ pearson chi square between categorical/ cramer's v"
   ]
  },
  {
   "cell_type": "markdown",
   "metadata": {},
   "source": [
    "1. Foreign keys:\n",
    "+ Drug_ID -> drug_lookup.MasterProductID -> chronic_illness_lookup.MasterProductID\n",
    "+ drug_lookup.ATCLevel5Code -> defined_daily_doses.ATC_CODE\n",
    "+ Patient_ID -> patient_lookup.Patient_ID\n",
    "+ Store_ID -> store_lookup.Store_ID\n",
    "+ patient_lookup.postcode -> postcodes.postcode\n",
    "+ stores_lookup.postcode -> postcodes.postcode"
   ]
  },
  {
   "cell_type": "code",
   "execution_count": 161,
   "metadata": {
    "collapsed": true
   },
   "outputs": [],
   "source": [
    "import numpy as np\n",
    "import pandas as pd\n",
    "import re\n",
    "from ggplot import *\n",
    "from collections import Counter\n",
    "\n",
    "project_id = \"the-d-team-164512\""
   ]
  },
  {
   "cell_type": "code",
   "execution_count": 65,
   "metadata": {},
   "outputs": [
    {
     "name": "stdout",
     "output_type": "stream",
     "text": [
      "10\n"
     ]
    },
    {
     "data": {
      "text/plain": [
       "10"
      ]
     },
     "execution_count": 65,
     "metadata": {},
     "output_type": "execute_result"
    }
   ],
   "source": [
    "foreign_tab = ['transactions_all_c','transactions_all_c','transactions_all_c',' drug_lookup', 'drug_lookup',\n",
    "               'chronic_illness_lookup', 'defined_daily_doses','patients_lookup', 'stores_lookup', 'postcodes']\n",
    "foreign_var = ['Drug_ID ','Patient_ID','Store_ID','MasterProductID', 'ATCLevel5Code', 'MasterProductID',\n",
    "              'ATC_CODE','Patient_ID', 'Store_ID', 'postcode']\n",
    "print(len(foreign_var))\n",
    "len(foreign_tab)"
   ]
  },
  {
   "cell_type": "code",
   "execution_count": 59,
   "metadata": {},
   "outputs": [
    {
     "name": "stdout",
     "output_type": "stream",
     "text": [
      "Requesting query... ok.\n",
      "Query running...\n",
      "Query done.\n",
      "Processed: 473.2 Mb\n",
      "\n",
      "Retrieving results...\n",
      "Got 0 rows.\n",
      "\n",
      "Total time taken 3.78 s.\n",
      "Finished at 2017-04-24 17:55:14.\n",
      "Requesting query... ok.\n",
      "Query running...\n",
      "Query done.\n",
      "Processed: 473.2 Mb\n",
      "\n",
      "Retrieving results...\n",
      "Got 0 rows.\n",
      "\n",
      "Total time taken 3.86 s.\n",
      "Finished at 2017-04-24 17:55:19.\n",
      "Requesting query... ok.\n",
      "Query running...\n",
      "Query done.\n",
      "Processed: 473.2 Mb\n",
      "\n",
      "Retrieving results...\n",
      "Got 0 rows.\n",
      "\n",
      "Total time taken 3.12 s.\n",
      "Finished at 2017-04-24 17:55:24.\n",
      "Requesting query... ok.\n",
      "Query running...\n",
      "Query done.\n",
      "Processed: 107.8 kb\n",
      "\n",
      "Retrieving results...\n",
      "Got 0 rows.\n",
      "\n",
      "Total time taken 3.07 s.\n",
      "Finished at 2017-04-24 17:55:29.\n",
      "Requesting query... ok.\n",
      "Query running...\n",
      "Query done.\n",
      "Processed: 108.1 kb\n",
      "\n",
      "Retrieving results...\n",
      "Got 1 rows.\n",
      "\n",
      "Total time taken 3.48 s.\n",
      "Finished at 2017-04-24 17:55:35.\n",
      "Requesting query... ok.\n",
      "Query running...\n",
      "Query done.\n",
      "Processed: 17.2 kb\n",
      "\n",
      "Retrieving results...\n",
      "Got 0 rows.\n",
      "\n",
      "Total time taken 3.64 s.\n",
      "Finished at 2017-04-24 17:55:41.\n",
      "Requesting query... ok.\n",
      "Query running...\n",
      "Query done.\n",
      "Processed: 42.4 kb\n",
      "\n",
      "Retrieving results...\n",
      "Got 1 rows.\n",
      "\n",
      "Total time taken 4.3 s.\n",
      "Finished at 2017-04-24 17:55:46.\n",
      "Requesting query... ok.\n",
      "Query running...\n",
      "Query done.\n",
      "Processed: 4.3 Mb\n",
      "\n",
      "Retrieving results...\n",
      "Got 0 rows.\n",
      "\n",
      "Total time taken 7.51 s.\n",
      "Finished at 2017-04-24 17:55:56.\n",
      "Requesting query... ok.\n",
      "Query running...\n",
      "Query done.\n",
      "Processed: 22.0 kb\n",
      "\n",
      "Retrieving results...\n",
      "Got 0 rows.\n",
      "\n",
      "Total time taken 2.67 s.\n",
      "Finished at 2017-04-24 17:56:00.\n",
      "Requesting query... ok.\n",
      "Query running...\n",
      "Query done.\n",
      "Processed: 125.6 kb\n",
      "\n",
      "Retrieving results...\n",
      "Got 0 rows.\n",
      "\n",
      "Total time taken 2.82 s.\n",
      "Finished at 2017-04-24 17:56:05.\n"
     ]
    }
   ],
   "source": [
    "results = list()\n",
    "\n",
    "for i in np.arange(len(foreign_tab)):\n",
    "    query = \"SELECT COUNT(1) as cnt from dthon.\" + foreign_tab[i] + \" WHERE \" + foreign_var[i] + \\\n",
    "    \" IS NULL OR LOWER(CAST(\" + foreign_var[i] + \"\"\" as STRING)) = \"na\" GROUP BY \"\"\" + foreign_var[i]\n",
    "    results.append(pd.read_gbq(query, project_id,dialect='standard'))\n",
    "    "
   ]
  },
  {
   "cell_type": "code",
   "execution_count": 63,
   "metadata": {},
   "outputs": [
    {
     "name": "stdout",
     "output_type": "stream",
     "text": [
      "drug_lookup.ATCLevel5Code: 2393\n",
      "defined_daily_doses.ATC_CODE: 1\n"
     ]
    }
   ],
   "source": [
    "a = [num for num in np.arange(len(results)) if len(results[num])!=0]\n",
    "for num in a:\n",
    "    print(foreign_tab[num] + \".\" + foreign_var[num] + \": \" + str(results[num]['cnt'][0]))"
   ]
  },
  {
   "cell_type": "markdown",
   "metadata": {},
   "source": [
    "Ok, the amount of nulls/NAs is not high and the most crucial keys are fully covered.\n",
    "Let's perform the joins.\n",
    "\n",
    "Now, let's augment the data by extracting the values from Strength Codes."
   ]
  },
  {
   "cell_type": "code",
   "execution_count": 167,
   "metadata": {},
   "outputs": [
    {
     "name": "stdout",
     "output_type": "stream",
     "text": [
      "Requesting query... ok.\n",
      "Query running...\n",
      "Query done.\n",
      "Processed: 118.4 kb\n",
      "\n",
      "Retrieving results...\n",
      "Got 2804 rows.\n",
      "\n",
      "Total time taken 5.3 s.\n",
      "Finished at 2017-04-24 21:49:19.\n"
     ]
    }
   ],
   "source": [
    "query = \"\"\"\n",
    "select StrengthCode as scd, count(1)\n",
    "from dthon.drug_lookup dl\n",
    "group by StrengthCode\n",
    "\"\"\"\n",
    "\n",
    "codes = pd.read_gbq(query, project_id, dialect=\"standard\")"
   ]
  },
  {
   "cell_type": "code",
   "execution_count": 214,
   "metadata": {},
   "outputs": [],
   "source": [
    "p = re.compile('(\\A[0-9.()]*[mc]*[gl])(?:[^mgl]*)(?![mgl])$', re.IGNORECASE)\n",
    "dosage = [p.search(str(obj)) for obj in codes['scd']]\n",
    "dosage_cmpl = [obj.groups()[0] if obj is not None else 'NA' for obj in dosage]\n",
    "dosage_cmpl[1633] = 'NA'\n",
    "p = re.compile('[0-9.]*')\n",
    "dosage_val = [float(p.search(obj)[0]) if obj!='NA' else 0 for obj in dosage_cmpl]\n",
    "p = re.compile('[mcgl]+', re.IGNORECASE)\n",
    "dosage_mg = [p.search(obj)[0] if obj!='NA' else 'NA' for obj in dosage_cmpl]"
   ]
  },
  {
   "cell_type": "code",
   "execution_count": 215,
   "metadata": {},
   "outputs": [
    {
     "data": {
      "text/plain": [
       "Counter({'G': 130, 'L': 4, 'MCG': 116, 'MG': 235, 'ML': 78, 'NA': 2241})"
      ]
     },
     "execution_count": 215,
     "metadata": {},
     "output_type": "execute_result"
    }
   ],
   "source": [
    "Counter(dosage_mg)"
   ]
  },
  {
   "cell_type": "code",
   "execution_count": 216,
   "metadata": {},
   "outputs": [],
   "source": [
    "def conversion(obj):\n",
    "    if obj.lower() in ['mg', 'ml']:\n",
    "        return 1\n",
    "    elif obj.lower() in ['mcg', 'mcl']:\n",
    "        return 0.001\n",
    "    elif obj.lower() in ['g', 'l']:\n",
    "        return 1000\n",
    "    else:\n",
    "        return 0\n",
    "dosage_mg2 = [conversion(obj) for obj in dosage_mg]"
   ]
  },
  {
   "cell_type": "code",
   "execution_count": 217,
   "metadata": {},
   "outputs": [
    {
     "data": {
      "text/plain": [
       "[]"
      ]
     },
     "execution_count": 217,
     "metadata": {},
     "output_type": "execute_result"
    }
   ],
   "source": [
    "def is_number(s):\n",
    "    try:\n",
    "        float(s)\n",
    "        return True\n",
    "    except ValueError:\n",
    "        return False\n",
    "tester = [obj for obj in dosage_val if not is_number(obj)]\n",
    "tester"
   ]
  },
  {
   "cell_type": "code",
   "execution_count": 199,
   "metadata": {},
   "outputs": [
    {
     "data": {
      "text/plain": [
       "[1633]"
      ]
     },
     "execution_count": 199,
     "metadata": {},
     "output_type": "execute_result"
    }
   ],
   "source": [
    "print([num for num in range(len(dosage_val)) if dosage_val[num] == ''])"
   ]
  },
  {
   "cell_type": "code",
   "execution_count": 204,
   "metadata": {},
   "outputs": [
    {
     "data": {
      "text/plain": [
       "'L 100 4209'"
      ]
     },
     "execution_count": 204,
     "metadata": {},
     "output_type": "execute_result"
    }
   ],
   "source": [
    "codes['scd'][1633]"
   ]
  },
  {
   "cell_type": "code",
   "execution_count": 247,
   "metadata": {},
   "outputs": [
    {
     "data": {
      "text/html": [
       "<div>\n",
       "<table border=\"1\" class=\"dataframe\">\n",
       "  <thead>\n",
       "    <tr style=\"text-align: right;\">\n",
       "      <th></th>\n",
       "      <th>scd</th>\n",
       "      <th>Calculated_Dose</th>\n",
       "    </tr>\n",
       "  </thead>\n",
       "  <tbody>\n",
       "    <tr>\n",
       "      <th>0</th>\n",
       "      <td>10CM X 4M 8635</td>\n",
       "      <td>NaN</td>\n",
       "    </tr>\n",
       "    <tr>\n",
       "      <th>1</th>\n",
       "      <td>5ML, 4</td>\n",
       "      <td>5.0</td>\n",
       "    </tr>\n",
       "    <tr>\n",
       "      <th>2</th>\n",
       "      <td>250MG 2ML AOVEK</td>\n",
       "      <td>NaN</td>\n",
       "    </tr>\n",
       "    <tr>\n",
       "      <th>3</th>\n",
       "      <td>S012023 4</td>\n",
       "      <td>NaN</td>\n",
       "    </tr>\n",
       "    <tr>\n",
       "      <th>4</th>\n",
       "      <td>10CM X 12CM 10  4629</td>\n",
       "      <td>NaN</td>\n",
       "    </tr>\n",
       "    <tr>\n",
       "      <th>5</th>\n",
       "      <td>250MG/1.25MG</td>\n",
       "      <td>NaN</td>\n",
       "    </tr>\n",
       "    <tr>\n",
       "      <th>6</th>\n",
       "      <td>14CM SPIRAL 10 H7983</td>\n",
       "      <td>NaN</td>\n",
       "    </tr>\n",
       "    <tr>\n",
       "      <th>7</th>\n",
       "      <td>10.8MG/50MG, 28</td>\n",
       "      <td>NaN</td>\n",
       "    </tr>\n",
       "    <tr>\n",
       "      <th>8</th>\n",
       "      <td>67MG</td>\n",
       "      <td>67.0</td>\n",
       "    </tr>\n",
       "    <tr>\n",
       "      <th>9</th>\n",
       "      <td>2% (20MG/ML) 30ML</td>\n",
       "      <td>NaN</td>\n",
       "    </tr>\n",
       "  </tbody>\n",
       "</table>\n",
       "</div>"
      ],
      "text/plain": [
       "                    scd  Calculated_Dose\n",
       "0        10CM X 4M 8635              NaN\n",
       "1                5ML, 4              5.0\n",
       "2       250MG 2ML AOVEK              NaN\n",
       "3             S012023 4              NaN\n",
       "4  10CM X 12CM 10  4629              NaN\n",
       "5          250MG/1.25MG              NaN\n",
       "6  14CM SPIRAL 10 H7983              NaN\n",
       "7       10.8MG/50MG, 28              NaN\n",
       "8                  67MG             67.0\n",
       "9     2% (20MG/ML) 30ML              NaN"
      ]
     },
     "execution_count": 247,
     "metadata": {},
     "output_type": "execute_result"
    }
   ],
   "source": [
    "final = [x * y for x,y in zip(dosage_val, dosage_mg2)]\n",
    "final = [obj if obj != 0 else None for obj in final]\n",
    "df_codes = pd.DataFrame(data=codes['scd'], columns = [\"Code\"])\n",
    "df_dose = pd.DataFrame(data=final, columns = [\"Calculated_Dose\"])\n",
    "df_final = pd.concat([codes['scd'], df_dose], axis=1)\n",
    "df_final[0:10]"
   ]
  },
  {
   "cell_type": "code",
   "execution_count": 248,
   "metadata": {},
   "outputs": [
    {
     "name": "stdout",
     "output_type": "stream",
     "text": [
      "\n",
      "\n",
      "\n",
      "Streaming Insert is 100.0% Complete\n",
      "\n",
      "\n"
     ]
    }
   ],
   "source": [
    "df_final.to_gbq('dthon.dose_calc', project_id)"
   ]
  }
 ],
 "metadata": {
  "kernelspec": {
   "display_name": "Python 3",
   "language": "python",
   "name": "python3"
  },
  "language_info": {
   "codemirror_mode": {
    "name": "ipython",
    "version": 3
   },
   "file_extension": ".py",
   "mimetype": "text/x-python",
   "name": "python",
   "nbconvert_exporter": "python",
   "pygments_lexer": "ipython3",
   "version": "3.6.1"
  }
 },
 "nbformat": 4,
 "nbformat_minor": 2
}
