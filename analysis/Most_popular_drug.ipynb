{
 "cells": [
  {
   "cell_type": "markdown",
   "metadata": {
    "deletable": true,
    "editable": true
   },
   "source": [
    "# Most popular drug"
   ]
  },
  {
   "cell_type": "code",
   "execution_count": 14,
   "metadata": {
    "collapsed": false,
    "deletable": true,
    "editable": true
   },
   "outputs": [
    {
     "name": "stdout",
     "output_type": "stream",
     "text": [
      "Waiting for job to complete...\n"
     ]
    },
    {
     "data": {
      "text/html": [
       "<div>\n",
       "<table border=\"1\" class=\"dataframe\">\n",
       "  <thead>\n",
       "    <tr style=\"text-align: right;\">\n",
       "      <th></th>\n",
       "      <th>drug_ids</th>\n",
       "      <th>first_drug_name</th>\n",
       "      <th>d_BrandName</th>\n",
       "      <th>transaction_count</th>\n",
       "    </tr>\n",
       "  </thead>\n",
       "  <tbody>\n",
       "    <tr>\n",
       "      <th>0</th>\n",
       "      <td>2120,2119,2117,2118</td>\n",
       "      <td>CRESTOR TAB 5MG 30</td>\n",
       "      <td>CRESTOR</td>\n",
       "      <td>1827302</td>\n",
       "    </tr>\n",
       "    <tr>\n",
       "      <th>1</th>\n",
       "      <td>6470</td>\n",
       "      <td>PANADOL OSTEO SR-TAB 665MG 96</td>\n",
       "      <td>PANADOL OSTEO</td>\n",
       "      <td>1693547</td>\n",
       "    </tr>\n",
       "    <tr>\n",
       "      <th>2</th>\n",
       "      <td>4869,4867,4860,4861</td>\n",
       "      <td>LIPITOR TAB 80MG 30</td>\n",
       "      <td>LIPITOR</td>\n",
       "      <td>1635951</td>\n",
       "    </tr>\n",
       "    <tr>\n",
       "      <th>3</th>\n",
       "      <td>5884,5887,5883</td>\n",
       "      <td>NEXIUM EC-TABS 20MG 30</td>\n",
       "      <td>NEXIUM</td>\n",
       "      <td>1539498</td>\n",
       "    </tr>\n",
       "    <tr>\n",
       "      <th>4</th>\n",
       "      <td>2105,2104,2106,2103</td>\n",
       "      <td>COVERSYL TAB 2MG 30</td>\n",
       "      <td>COVERSYL</td>\n",
       "      <td>1071237</td>\n",
       "    </tr>\n",
       "    <tr>\n",
       "      <th>5</th>\n",
       "      <td>5372,5373</td>\n",
       "      <td>MICARDIS TAB 40MG 28</td>\n",
       "      <td>MICARDIS</td>\n",
       "      <td>830642</td>\n",
       "    </tr>\n",
       "    <tr>\n",
       "      <th>6</th>\n",
       "      <td>8208</td>\n",
       "      <td>SPIRIVA INH-CAP 18MCG 30</td>\n",
       "      <td>SPIRIVA</td>\n",
       "      <td>771540</td>\n",
       "    </tr>\n",
       "    <tr>\n",
       "      <th>7</th>\n",
       "      <td>6031,6032</td>\n",
       "      <td>NOTEN TAB 50MG 30 BLISTER</td>\n",
       "      <td>NOTEN</td>\n",
       "      <td>753504</td>\n",
       "    </tr>\n",
       "    <tr>\n",
       "      <th>8</th>\n",
       "      <td>767,765,763,764</td>\n",
       "      <td>ATACAND TAB 4MG 30</td>\n",
       "      <td>ATACAND</td>\n",
       "      <td>732852</td>\n",
       "    </tr>\n",
       "    <tr>\n",
       "      <th>9</th>\n",
       "      <td>8168,8157,8156,8166,8165</td>\n",
       "      <td>SOMAC EC-TABS 20MG 30 BLISTER</td>\n",
       "      <td>SOMAC</td>\n",
       "      <td>687873</td>\n",
       "    </tr>\n",
       "  </tbody>\n",
       "</table>\n",
       "</div>"
      ],
      "text/plain": [
       "                   drug_ids                 first_drug_name    d_BrandName  \\\n",
       "0       2120,2119,2117,2118             CRESTOR TAB 5MG 30         CRESTOR   \n",
       "1                      6470  PANADOL OSTEO SR-TAB 665MG 96   PANADOL OSTEO   \n",
       "2       4869,4867,4860,4861            LIPITOR TAB 80MG 30         LIPITOR   \n",
       "3            5884,5887,5883         NEXIUM EC-TABS 20MG 30          NEXIUM   \n",
       "4       2105,2104,2106,2103            COVERSYL TAB 2MG 30        COVERSYL   \n",
       "5                 5372,5373           MICARDIS TAB 40MG 28        MICARDIS   \n",
       "6                      8208       SPIRIVA INH-CAP 18MCG 30         SPIRIVA   \n",
       "7                 6031,6032       NOTEN TAB 50MG 30 BLISTER          NOTEN   \n",
       "8           767,765,763,764             ATACAND TAB 4MG 30         ATACAND   \n",
       "9  8168,8157,8156,8166,8165   SOMAC EC-TABS 20MG 30 BLISTER          SOMAC   \n",
       "\n",
       "   transaction_count  \n",
       "0            1827302  \n",
       "1            1693547  \n",
       "2            1635951  \n",
       "3            1539498  \n",
       "4            1071237  \n",
       "5             830642  \n",
       "6             771540  \n",
       "7             753504  \n",
       "8             732852  \n",
       "9             687873  "
      ]
     },
     "execution_count": 14,
     "metadata": {},
     "output_type": "execute_result"
    }
   ],
   "source": [
    "import pandas as pd\n",
    "\n",
    "project_id = \"the-d-team-164512\"\n",
    "\n",
    "query = \"\"\"\\\n",
    "SELECT\n",
    "  GROUP_CONCAT(UNIQUE(STRING(t.Drug_ID)), ',') AS drug_ids\n",
    "  , FIRST(d.MasterProductFullName) AS first_drug_name\n",
    "  , d.BrandName\n",
    "  , count(*) AS transaction_count\n",
    "FROM [the-d-team-164512:dthon.transactions] t\n",
    "JOIN [the-d-team-164512:dthon.drug_lookup] d\n",
    "ON t.Drug_ID = d.MasterProductID\n",
    "GROUP BY\n",
    "  d.BrandName\n",
    "ORDER BY transaction_count DESC\n",
    "LIMIT 10\n",
    "\"\"\"\n",
    "\n",
    "df = pd.read_gbq(query, project_id)\n",
    "df"
   ]
  },
  {
   "cell_type": "markdown",
   "metadata": {},
   "source": [
    "## Most popular drug by time"
   ]
  },
  {
   "cell_type": "code",
   "execution_count": 17,
   "metadata": {
    "collapsed": false
   },
   "outputs": [
    {
     "name": "stdout",
     "output_type": "stream",
     "text": [
      "Waiting for job to complete...\n"
     ]
    }
   ],
   "source": [
    "# TODO replace in below\n",
    "pop_drug_ids = \",\".join(df['drug_ids'])\n",
    "\n",
    "query = \"\"\"\\\n",
    "SELECT\n",
    "  d.BrandName\n",
    "  , YEAR(DATE(Prescription_Week)) AS year\n",
    "  , COUNT(*) AS transaction_count\n",
    "FROM [the-d-team-164512:dthon.transactions] t\n",
    "JOIN [the-d-team-164512:dthon.drug_lookup] d\n",
    "ON t.Drug_ID = d.MasterProductID\n",
    "WHERE t.Drug_ID IN (2120,2119,2117,2118,6470,4869,4867,4860,4861,5884,5887,5883,2105,2104,2106,2103,5372,5373,8208,6031,6032,767,765,763,764,8168,8157,8156,8166,8165)\n",
    "GROUP BY\n",
    "  d.BrandName\n",
    "  , year\n",
    "ORDER BY\n",
    "  d.BrandName\n",
    "  , year ASC\n",
    "\"\"\"\n",
    "\n",
    "df_pop_by_year = pd.read_gbq(query, project_id)"
   ]
  },
  {
   "cell_type": "code",
   "execution_count": 21,
   "metadata": {
    "collapsed": false
   },
   "outputs": [
    {
     "data": {
      "text/plain": [
       "<matplotlib.axes._subplots.AxesSubplot at 0x106469080>"
      ]
     },
     "execution_count": 21,
     "metadata": {},
     "output_type": "execute_result"
    },
    {
     "data": {
      "image/png": "[encoded data removed]",
      "text/plain": [
       "<matplotlib.figure.Figure at 0x1064d2c18>"
      ]
     },
     "metadata": {},
     "output_type": "display_data"
    }
   ],
   "source": [
    "import matplotlib.pyplot as plt\n",
    "%matplotlib inline\n",
    "\n",
    "# TODO fix this to plot over years by drug group\n",
    "df_pop_by_year.plot()"
   ]
  }
 ],
 "metadata": {
  "kernelspec": {
   "display_name": "Python 3",
   "language": "python",
   "name": "python3"
  },
  "language_info": {
   "codemirror_mode": {
    "name": "ipython",
    "version": 3
   },
   "file_extension": ".py",
   "mimetype": "text/x-python",
   "name": "python",
   "nbconvert_exporter": "python",
   "pygments_lexer": "ipython3",
   "version": "3.5.1"
  }
 },
 "nbformat": 4,
 "nbformat_minor": 2
}
