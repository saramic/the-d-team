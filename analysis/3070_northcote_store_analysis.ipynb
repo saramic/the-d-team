{
 "cells": [
  {
   "cell_type": "markdown",
   "metadata": {},
   "source": [
    "## 3070 Northcote analysis\n",
    "Just a quick, first thing that comes to the head, analysis of a particular area, in this case my home suburb of Northcote 3070."
   ]
  },
  {
   "cell_type": "code",
   "execution_count": 1,
   "metadata": {
    "collapsed": true
   },
   "outputs": [],
   "source": [
    "import pandas as pd\n",
    "from ggplot import *\n",
    "\n",
    "project_id = \"the-d-team-164512\""
   ]
  },
  {
   "cell_type": "code",
   "execution_count": 6,
   "metadata": {},
   "outputs": [
    {
     "name": "stdout",
     "output_type": "stream",
     "text": [
      "Waiting for job to complete...\n",
      "\n",
      "\n",
      "Number of unique patients to any stores in 3070\n"
     ]
    },
    {
     "data": {
      "text/html": [
       "<div>\n",
       "<table border=\"1\" class=\"dataframe\">\n",
       "  <thead>\n",
       "    <tr style=\"text-align: right;\">\n",
       "      <th></th>\n",
       "      <th>number_unique_patients</th>\n",
       "    </tr>\n",
       "  </thead>\n",
       "  <tbody>\n",
       "    <tr>\n",
       "      <th>0</th>\n",
       "      <td>1387</td>\n",
       "    </tr>\n",
       "  </tbody>\n",
       "</table>\n",
       "</div>"
      ],
      "text/plain": [
       "   number_unique_patients\n",
       "0                    1387"
      ]
     },
     "execution_count": 6,
     "metadata": {},
     "output_type": "execute_result"
    }
   ],
   "source": [
    "query = \"\"\"\\\n",
    "SELECT\n",
    "  COUNT(UNIQUE(t.patient_id)) AS number_unique_patients\n",
    "FROM\n",
    "  dthon.transactions t\n",
    "  JOIN dthon.stores_lookup s\n",
    "    ON s.store_id = t.store_id\n",
    "WHERE\n",
    "  s.postcode = 3070\n",
    "\"\"\"\n",
    "\n",
    "df_num = pd.read_gbq(query, project_id)\n",
    "print(\"\\n\\nNumber of unique patients to any stores in 3070\")\n",
    "df_num"
   ]
  },
  {
   "cell_type": "code",
   "execution_count": 7,
   "metadata": {},
   "outputs": [
    {
     "name": "stdout",
     "output_type": "stream",
     "text": [
      "Waiting for job to complete...\n",
      "\n",
      "\n",
      "Number of unique patients per store in 3070\n"
     ]
    },
    {
     "data": {
      "text/html": [
       "<div>\n",
       "<table border=\"1\" class=\"dataframe\">\n",
       "  <thead>\n",
       "    <tr style=\"text-align: right;\">\n",
       "      <th></th>\n",
       "      <th>store_id</th>\n",
       "      <th>number_unique_patients</th>\n",
       "    </tr>\n",
       "  </thead>\n",
       "  <tbody>\n",
       "    <tr>\n",
       "      <th>0</th>\n",
       "      <td>943</td>\n",
       "      <td>675</td>\n",
       "    </tr>\n",
       "    <tr>\n",
       "      <th>1</th>\n",
       "      <td>1641</td>\n",
       "      <td>1010</td>\n",
       "    </tr>\n",
       "    <tr>\n",
       "      <th>2</th>\n",
       "      <td>2800</td>\n",
       "      <td>167</td>\n",
       "    </tr>\n",
       "  </tbody>\n",
       "</table>\n",
       "</div>"
      ],
      "text/plain": [
       "   store_id  number_unique_patients\n",
       "0       943                     675\n",
       "1      1641                    1010\n",
       "2      2800                     167"
      ]
     },
     "execution_count": 7,
     "metadata": {},
     "output_type": "execute_result"
    }
   ],
   "source": [
    "query = \"\"\"\\\n",
    "SELECT\n",
    "  s.store_id as store_id\n",
    "  , COUNT(UNIQUE(t.patient_id)) AS number_unique_patients\n",
    "FROM\n",
    "  dthon.transactions t\n",
    "  JOIN dthon.stores_lookup s\n",
    "    ON s.store_id = t.store_id\n",
    "WHERE\n",
    "  s.postcode = 3070\n",
    "GROUP BY\n",
    "  store_id\n",
    "ORDER BY\n",
    "  store_id\n",
    "\"\"\"\n",
    "\n",
    "df_num_patient = pd.read_gbq(query, project_id)\n",
    "print(\"\\n\\nNumber of unique patients per store in 3070\")\n",
    "df_num_patient"
   ]
  },
  {
   "cell_type": "code",
   "execution_count": 8,
   "metadata": {},
   "outputs": [
    {
     "name": "stdout",
     "output_type": "stream",
     "text": [
      "Waiting for job to complete...\n",
      "\n",
      "\n",
      "ATTEMPT at patients across the 3 stores in 3070\n"
     ]
    },
    {
     "data": {
      "text/html": [
       "<div>\n",
       "<table border=\"1\" class=\"dataframe\">\n",
       "  <thead>\n",
       "    <tr style=\"text-align: right;\">\n",
       "      <th></th>\n",
       "      <th>patient_id</th>\n",
       "      <th>store_943</th>\n",
       "      <th>store_1641</th>\n",
       "      <th>store_2800</th>\n",
       "    </tr>\n",
       "  </thead>\n",
       "  <tbody>\n",
       "    <tr>\n",
       "      <th>0</th>\n",
       "      <td>134251</td>\n",
       "      <td>1</td>\n",
       "      <td>1</td>\n",
       "      <td>NaN</td>\n",
       "    </tr>\n",
       "    <tr>\n",
       "      <th>1</th>\n",
       "      <td>425168</td>\n",
       "      <td>NaN</td>\n",
       "      <td>1</td>\n",
       "      <td>NaN</td>\n",
       "    </tr>\n",
       "    <tr>\n",
       "      <th>2</th>\n",
       "      <td>34790</td>\n",
       "      <td>NaN</td>\n",
       "      <td>1</td>\n",
       "      <td>NaN</td>\n",
       "    </tr>\n",
       "  </tbody>\n",
       "</table>\n",
       "</div>"
      ],
      "text/plain": [
       "   patient_id  store_943  store_1641  store_2800\n",
       "0      134251          1           1         NaN\n",
       "1      425168        NaN           1         NaN\n",
       "2       34790        NaN           1         NaN"
      ]
     },
     "execution_count": 8,
     "metadata": {},
     "output_type": "execute_result"
    }
   ],
   "source": [
    "query = \"\"\"\\\n",
    "    SELECT\n",
    "      t2.patient_id AS patient_id\n",
    "      , MAX(CASE WHEN s2.store_id == 943 THEN 1 END) as store_943\n",
    "      , MAX(CASE WHEN s2.store_id == 1641 THEN 1 END) as store_1641\n",
    "      , MAX(CASE WHEN s2.store_id == 2800 THEN 1 END) as store_2800\n",
    "    FROM\n",
    "      dthon.transactions t2\n",
    "      JOIN dthon.stores_lookup s2\n",
    "        ON s2.store_id = t2.store_id\n",
    "    WHERE\n",
    "      t2.patient_id IN \n",
    "      (SELECT t.patient_id AS patient_3070\n",
    "        FROM dthon.transactions t\n",
    "        JOIN dthon.stores_lookup s ON s.store_id = t.store_id\n",
    "        WHERE s.postcode = 3070\n",
    "        GROUP BY patient_3070)\n",
    "      AND\n",
    "        s2.postcode = 3070\n",
    "    GROUP BY\n",
    "      patient_id\n",
    "\"\"\"\n",
    "\n",
    "df_patient_per_store = pd.read_gbq(query, project_id)\n",
    "print(\"\\n\\nATTEMPT at patients across the 3 stores in 3070\")\n",
    "df_patient_per_store.head(3)"
   ]
  },
  {
   "cell_type": "code",
   "execution_count": 16,
   "metadata": {},
   "outputs": [
    {
     "name": "stdout",
     "output_type": "stream",
     "text": [
      "Waiting for job to complete...\n",
      "Waiting for job to complete...\n",
      "\n",
      "\n",
      "other stores visited by patrons of 3070\n"
     ]
    },
    {
     "data": {
      "text/html": [
       "<div>\n",
       "<table border=\"1\" class=\"dataframe\">\n",
       "  <thead>\n",
       "    <tr style=\"text-align: right;\">\n",
       "      <th></th>\n",
       "      <th>store_id</th>\n",
       "      <th>postcode</th>\n",
       "      <th>avg_distance</th>\n",
       "      <th>seventy_fifth</th>\n",
       "    </tr>\n",
       "  </thead>\n",
       "  <tbody>\n",
       "    <tr>\n",
       "      <th>0</th>\n",
       "      <td>1081</td>\n",
       "      <td>3078</td>\n",
       "      <td>16.817102</td>\n",
       "      <td>4.588855</td>\n",
       "    </tr>\n",
       "    <tr>\n",
       "      <th>1</th>\n",
       "      <td>1613</td>\n",
       "      <td>4553</td>\n",
       "      <td>0.000000</td>\n",
       "      <td>0.000000</td>\n",
       "    </tr>\n",
       "    <tr>\n",
       "      <th>2</th>\n",
       "      <td>683</td>\n",
       "      <td>6050</td>\n",
       "      <td>3000.358275</td>\n",
       "      <td>3274.591392</td>\n",
       "    </tr>\n",
       "  </tbody>\n",
       "</table>\n",
       "</div>"
      ],
      "text/plain": [
       "   store_id  postcode  avg_distance  seventy_fifth\n",
       "0      1081      3078     16.817102       4.588855\n",
       "1      1613      4553      0.000000       0.000000\n",
       "2       683      6050   3000.358275    3274.591392"
      ]
     },
     "execution_count": 16,
     "metadata": {},
     "output_type": "execute_result"
    }
   ],
   "source": [
    "query = \"\"\"\\\n",
    "SELECT\n",
    "store_id\n",
    ", postcode\n",
    ", AVG(distance) AS avg_distance\n",
    ", NTH(4, quantiles(distance, 5)) seventy_fifth\n",
    "FROM (\n",
    "    SELECT\n",
    "      s2.store_id AS store_id\n",
    "      , s2.postcode AS postcode\n",
    "      , t2.patient_id AS patient_id\n",
    "      , pcd.distance AS distance\n",
    "    FROM\n",
    "        dthon.transactions t2\n",
    "        JOIN dthon.patients_lookup p\n",
    "            ON t2.patient_id = p.patient_id\n",
    "        JOIN dthon.stores_lookup s2\n",
    "            ON s2.store_id = t2.store_id\n",
    "        JOIN dthon.postcodes pc\n",
    "            ON p.postcode = pc.postcode\n",
    "        JOIN dthon.postcode_distances pcd\n",
    "            ON p.postcode = pcd.from_postcode AND s2.postcode = pcd.to_postcode\n",
    "    WHERE\n",
    "      t2.patient_id IN \n",
    "      (SELECT t.patient_id AS patient_3070\n",
    "        FROM dthon.transactions t\n",
    "        JOIN dthon.stores_lookup s ON s.store_id = t.store_id\n",
    "        WHERE s.postcode = 3070\n",
    "        GROUP BY patient_3070)\n",
    "    GROUP BY\n",
    "        store_id\n",
    "        , postcode\n",
    "        , patient_id\n",
    "        , distance)\n",
    "GROUP BY\n",
    "    store_id\n",
    "    , postcode\n",
    "\"\"\"\n",
    "\n",
    "df_patient_distance = pd.read_gbq(query, project_id)\n",
    "print(\"\\n\\nother stores visited by patrons of 3070\")\n",
    "df_patient_distance.head(3)"
   ]
  },
  {
   "cell_type": "code",
   "execution_count": 20,
   "metadata": {},
   "outputs": [
    {
     "data": {
      "text/html": [
       "<div>\n",
       "<table border=\"1\" class=\"dataframe\">\n",
       "  <thead>\n",
       "    <tr style=\"text-align: right;\">\n",
       "      <th></th>\n",
       "      <th>store_id</th>\n",
       "      <th>postcode</th>\n",
       "      <th>avg_distance</th>\n",
       "      <th>seventy_fifth</th>\n",
       "    </tr>\n",
       "  </thead>\n",
       "  <tbody>\n",
       "    <tr>\n",
       "      <th>194</th>\n",
       "      <td>1641</td>\n",
       "      <td>3070</td>\n",
       "      <td>42.242039</td>\n",
       "      <td>3.973267</td>\n",
       "    </tr>\n",
       "    <tr>\n",
       "      <th>563</th>\n",
       "      <td>2800</td>\n",
       "      <td>3070</td>\n",
       "      <td>51.284406</td>\n",
       "      <td>6.327146</td>\n",
       "    </tr>\n",
       "    <tr>\n",
       "      <th>564</th>\n",
       "      <td>943</td>\n",
       "      <td>3070</td>\n",
       "      <td>45.393628</td>\n",
       "      <td>3.973267</td>\n",
       "    </tr>\n",
       "  </tbody>\n",
       "</table>\n",
       "</div>"
      ],
      "text/plain": [
       "     store_id  postcode  avg_distance  seventy_fifth\n",
       "194      1641      3070     42.242039       3.973267\n",
       "563      2800      3070     51.284406       6.327146\n",
       "564       943      3070     45.393628       3.973267"
      ]
     },
     "execution_count": 20,
     "metadata": {},
     "output_type": "execute_result"
    }
   ],
   "source": [
    "df_patient_distance[df_patient_distance.postcode == 3070]"
   ]
  },
  {
   "cell_type": "markdown",
   "metadata": {},
   "source": [
    "The average distance above has to be unfairly skewed by a coupld of distant visitors. To unscue could look at [distance decay](https://en.wikipedia.org/wiki/Distance_decay) or 75% quantile as above probably a good thing."
   ]
  },
  {
   "cell_type": "code",
   "execution_count": null,
   "metadata": {},
   "outputs": [
    {
     "name": "stdout",
     "output_type": "stream",
     "text": [
      "Waiting for job to complete...\n",
      "Waiting for job to complete...\n"
     ]
    }
   ],
   "source": [
    "query = \"\"\"\\\n",
    "SELECT\n",
    "  s2.store_id AS store_id\n",
    "  , s2.postcode AS postcode\n",
    "  , t2.patient_id AS patient_id\n",
    "  , pcd.distance AS distance\n",
    "FROM\n",
    "    dthon.transactions t2\n",
    "    JOIN dthon.patients_lookup p\n",
    "        ON t2.patient_id = p.patient_id\n",
    "    JOIN dthon.stores_lookup s2\n",
    "        ON s2.store_id = t2.store_id\n",
    "    JOIN dthon.postcodes pc\n",
    "        ON p.postcode = pc.postcode\n",
    "    JOIN dthon.postcode_distances pcd\n",
    "        ON p.postcode = pcd.from_postcode AND s2.postcode = pcd.to_postcode\n",
    "WHERE\n",
    "  t2.patient_id IN \n",
    "  (SELECT t.patient_id AS patient_3070\n",
    "    FROM dthon.transactions t\n",
    "    JOIN dthon.stores_lookup s ON s.store_id = t.store_id\n",
    "    WHERE s.postcode = 3070\n",
    "    GROUP BY patient_3070)\n",
    "GROUP BY\n",
    "    store_id\n",
    "    , postcode\n",
    "    , patient_id\n",
    "    , distance\n",
    "\"\"\"\n",
    "\n",
    "df_other_stores = pd.read_gbq(query, project_id)\n",
    "print(\"\\n\\nother stores visited by patrons of 3070\")\n",
    "df_other_stores.head(3)"
   ]
  },
  {
   "cell_type": "code",
   "execution_count": 30,
   "metadata": {},
   "outputs": [
    {
     "data": {
      "text/plain": [
       "array([ 943, 1641, 2800])"
      ]
     },
     "execution_count": 30,
     "metadata": {},
     "output_type": "execute_result"
    }
   ],
   "source": [
    "df_other_stores.store_id.unique()"
   ]
  },
  {
   "cell_type": "code",
   "execution_count": 23,
   "metadata": {},
   "outputs": [
    {
     "name": "stdout",
     "output_type": "stream",
     "text": [
      "\n",
      "\n",
      "\n",
      "median:\n",
      " store_id        2800.000000\n",
      "postcode        3070.000000\n",
      "patient_id    251684.500000\n",
      "distance           2.763213\n",
      "store_name      2800.000000\n",
      "dist_decay         0.130970\n",
      "dtype: float64\n",
      "mean:\n",
      " store_id      2.800000e+03\n",
      "postcode      3.070000e+03\n",
      "patient_id    2.690586e+05\n",
      "distance      5.128441e+01\n",
      "store_name             inf\n",
      "dist_decay             inf\n",
      "dtype: float64\n"
     ]
    },
    {
     "data": {
      "text/plain": [
       "0.25    0.000000\n",
       "0.75    6.327146\n",
       "Name: distance, dtype: float64"
      ]
     },
     "execution_count": 23,
     "metadata": {},
     "output_type": "execute_result"
    }
   ],
   "source": [
    "print(\"\\n\\n\")\n",
    "print(\"median:\\n \" + str(df_other_stores[df_other_stores['store_id'] == 2800].median()))\n",
    "print(\"mean:\\n \" + str(df_other_stores[df_other_stores['store_id'] == 2800].mean()))\n",
    "df_other_stores['store_name'] = pd.Series(df_other_stores.store_id).apply(lambda x: str(x) )\n",
    "df_other_stores['store_name'] = pd.Series(df_other_stores.store_id).apply(lambda x: str(x) )\n",
    "df_other_stores['dist_decay'] = pd.Series(df_other_stores.distance).apply(lambda x: 1/pow(x, 2) )\n",
    "df_other_stores[df_other_stores['store_id'] == 2800].distance.quantile([0.25,0.75])\n",
    "# ggplot(aes(x='store_name', y='distance'), data=df[df['store_id'] == 2800]) +\\\n",
    "#     geom_boxplot() +\\\n",
    "#     labs(title=\"Distribution of distance travelled\")\n",
    "\n",
    "# ggplot(aes(x='distance', y='store_id', colours='store_id'), data=df[df['store_id'] == 2800]) +\\\n",
    "#     geom_histogram(binwidth=10, alpha=0.4) +\\\n",
    "#     labs(title=\"Distribution of distance travelled\")\n",
    "\n",
    "# ggplot(aes(x='dist_decay', y='dist_decay'), data=df[df['store_id'] == 2800]) +\\\n",
    "#     geom_histogram(binwidth=100, alpha=0.4) +\\\n",
    "#     labs(title=\"Distribution of distance travelled\")\n",
    "\n",
    "\n",
    "# import numpy as np\n",
    "# data = pd.DataFrame(np.random.randn(1,40)).transpose()\n",
    "# data\n",
    "# labels = np.repeat(['A','B'],20)\n",
    "# data['labels']=labels\n",
    "# data.columns = ['vals','labels']\n",
    "# data\n",
    "# ggplot(data, aes(x='vals', y='labels')) + geom_boxplot()\n",
    "\n",
    "# bp = pd.DataFrame.boxplot(df, return_type='both')\n",
    "\n",
    "# outliers = [flier.get_ydata() for flier in bp[\"fliers\"]]\n",
    "# boxes = [box.get_ydata() for box in bp[\"boxes\"]]\n",
    "# medians = [median.get_ydata() for median in bp[\"medians\"]]\n",
    "# whiskers = [whiskers.get_ydata() for whiskers in bp[\"whiskers\"]]"
   ]
  },
  {
   "cell_type": "markdown",
   "metadata": {},
   "source": [
    "Should be able to do a RMSE calculation or similar to skew the avearag to the more popoular but weaker closer distance?\n",
    "* What about finance per shop\n",
    "* drugs, users, finanace over time per shop\n",
    "* share of patients, is there anything there?\n",
    "* what about other stoers?\n",
    "* is there a graph algorithm with other stores? connectedness? page rank/most influential store?\n",
    "* how do we show a postcode and data on a graph?\n",
    "* What happend to store 2080? did it shut down?\n",
    "* what were the warning signs?\n",
    "* any other trends? like predominant purchase periods, drugs, from a distance at particular time?\n",
    "* can we get anything per person?\n",
    "* are there any local things that can make an impact?\n",
    "* how to expand this to the local area? RMS distance?\n",
    "* how do other things found like lipitor replacement play out?\n",
    "* how could we generalize for the store?\n",
    "* how could we generalize for the patient?\n",
    "* anything for the diabetes thing?\n",
    "* compare to more and less affluent suburbs? by money, by vote, by age/demographics?\n",
    "\n",
    "* how can we scale these findings to all the other stores, and ML it?"
   ]
  },
  {
   "cell_type": "code",
   "execution_count": 24,
   "metadata": {},
   "outputs": [
    {
     "name": "stdout",
     "output_type": "stream",
     "text": [
      "Waiting for job to complete...\n"
     ]
    },
    {
     "data": {
      "text/html": [
       "<div>\n",
       "<table border=\"1\" class=\"dataframe\">\n",
       "  <thead>\n",
       "    <tr style=\"text-align: right;\">\n",
       "      <th></th>\n",
       "      <th>t_store_id</th>\n",
       "      <th>year_month</th>\n",
       "      <th>year_month_disp</th>\n",
       "      <th>transaction_count</th>\n",
       "      <th>d_atclevel1code</th>\n",
       "    </tr>\n",
       "  </thead>\n",
       "  <tbody>\n",
       "    <tr>\n",
       "      <th>0</th>\n",
       "      <td>943</td>\n",
       "      <td>2010-01-01</td>\n",
       "      <td>2011-01-09,2011-01-23</td>\n",
       "      <td>2</td>\n",
       "      <td>A</td>\n",
       "    </tr>\n",
       "    <tr>\n",
       "      <th>1</th>\n",
       "      <td>1641</td>\n",
       "      <td>2010-01-01</td>\n",
       "      <td>2011-01-09</td>\n",
       "      <td>1</td>\n",
       "      <td>A</td>\n",
       "    </tr>\n",
       "    <tr>\n",
       "      <th>2</th>\n",
       "      <td>1641</td>\n",
       "      <td>2010-01-01</td>\n",
       "      <td>2011-01-02,2011-01-09,2011-01-23</td>\n",
       "      <td>3</td>\n",
       "      <td>C</td>\n",
       "    </tr>\n",
       "  </tbody>\n",
       "</table>\n",
       "</div>"
      ],
      "text/plain": [
       "   t_store_id  year_month                   year_month_disp  \\\n",
       "0         943  2010-01-01             2011-01-09,2011-01-23   \n",
       "1        1641  2010-01-01                        2011-01-09   \n",
       "2        1641  2010-01-01  2011-01-02,2011-01-09,2011-01-23   \n",
       "\n",
       "   transaction_count d_atclevel1code  \n",
       "0                  2               A  \n",
       "1                  1               A  \n",
       "2                  3               C  "
      ]
     },
     "execution_count": 24,
     "metadata": {},
     "output_type": "execute_result"
    }
   ],
   "source": [
    "query = \"\"\"\\\n",
    "SELECT\n",
    "  t.store_id\n",
    "  , DATE(STRFTIME_UTC_USEC(DATE(t.prescription_week), \"%Y-%m-01\")) AS year_month\n",
    "  , GROUP_CONCAT(DATE(UNIQUE(t.dispense_week))) AS year_month_disp\n",
    "  , COUNT(*) AS transaction_count\n",
    "  , d.atclevel1code\n",
    "--  , GROUP_CONCAT(UNIQUE(d.atclevel1code)) AS atc_codes\n",
    "FROM\n",
    "  dthon.transactions t\n",
    "  JOIN dthon.stores_lookup s\n",
    "    ON s.store_id = t.store_id\n",
    "  JOIN dthon.drug_lookup d\n",
    "    ON d.MasterProductID = t.Drug_ID\n",
    "WHERE\n",
    "  s.postcode = 3070\n",
    "GROUP BY\n",
    "  year_month\n",
    "  , t.store_id\n",
    "  , d.atclevel1code\n",
    "ORDER BY\n",
    "  year_month\n",
    "  , t.store_id\n",
    "\"\"\"\n",
    "\n",
    "df_3070 = pd.read_gbq(query, project_id)\n",
    "df_3070.head(3)"
   ]
  },
  {
   "cell_type": "code",
   "execution_count": 25,
   "metadata": {},
   "outputs": [
    {
     "data": {
      "image/png": "[encoded data removed]",
      "text/plain": [
       "<matplotlib.figure.Figure at 0x10f179400>"
      ]
     },
     "metadata": {},
     "output_type": "display_data"
    },
    {
     "data": {
      "text/plain": [
       "<ggplot: (284260630)>"
      ]
     },
     "execution_count": 25,
     "metadata": {},
     "output_type": "execute_result"
    }
   ],
   "source": [
    "df_3070.year_month = pd.Series(df_3070.year_month).apply(pd.to_datetime, format='%Y-%m')\n",
    "df_3070['store_name'] = pd.Series(df_3070.t_store_id).apply(lambda x: str(x) )\n",
    "df_3070[df_3070['store_name'] == '943'] # 943, 1641, 2800\n",
    "# ggplot(\n",
    "#     aes(x='year_month', y='transaction_count', colour='store_name'),\n",
    "#     data=df_3070[['store_name', 'transaction_count', 'year_month']]) +\\\n",
    "#     geom_line()\n",
    "ggplot(\n",
    "    aes(x='year_month', y='transaction_count', colour='d_atclevel1code'),\n",
    "    data=df_3070[df_3070['store_name'] == '943'][['d_atclevel1code', 'transaction_count', 'year_month']]) +\\\n",
    "    geom_line()"
   ]
  },
  {
   "cell_type": "code",
   "execution_count": 26,
   "metadata": {},
   "outputs": [
    {
     "name": "stdout",
     "output_type": "stream",
     "text": [
      "Waiting for job to complete...\n",
      "Waiting for job to complete...\n"
     ]
    },
    {
     "data": {
      "text/html": [
       "<div>\n",
       "<table border=\"1\" class=\"dataframe\">\n",
       "  <thead>\n",
       "    <tr style=\"text-align: right;\">\n",
       "      <th></th>\n",
       "      <th>store_id</th>\n",
       "      <th>p_patient_id</th>\n",
       "      <th>p_postcode</th>\n",
       "      <th>pcd_distance</th>\n",
       "      <th>year_month</th>\n",
       "      <th>year_month_disp</th>\n",
       "      <th>transaction_count</th>\n",
       "      <th>d_atclevel1code</th>\n",
       "    </tr>\n",
       "  </thead>\n",
       "  <tbody>\n",
       "    <tr>\n",
       "      <th>0</th>\n",
       "      <td>1641</td>\n",
       "      <td>266679</td>\n",
       "      <td>3070</td>\n",
       "      <td>0.000000</td>\n",
       "      <td>2010-01-01</td>\n",
       "      <td>2011-01-09</td>\n",
       "      <td>2</td>\n",
       "      <td>C</td>\n",
       "    </tr>\n",
       "    <tr>\n",
       "      <th>1</th>\n",
       "      <td>1641</td>\n",
       "      <td>278118</td>\n",
       "      <td>3070</td>\n",
       "      <td>0.000000</td>\n",
       "      <td>2010-01-01</td>\n",
       "      <td>2011-01-23</td>\n",
       "      <td>2</td>\n",
       "      <td>C</td>\n",
       "    </tr>\n",
       "    <tr>\n",
       "      <th>2</th>\n",
       "      <td>1641</td>\n",
       "      <td>519876</td>\n",
       "      <td>3071</td>\n",
       "      <td>2.763213</td>\n",
       "      <td>2010-01-01</td>\n",
       "      <td>2011-01-09</td>\n",
       "      <td>1</td>\n",
       "      <td>A</td>\n",
       "    </tr>\n",
       "  </tbody>\n",
       "</table>\n",
       "</div>"
      ],
      "text/plain": [
       "  store_id  p_patient_id  p_postcode  pcd_distance year_month year_month_disp  \\\n",
       "0     1641        266679        3070      0.000000 2010-01-01      2011-01-09   \n",
       "1     1641        278118        3070      0.000000 2010-01-01      2011-01-23   \n",
       "2     1641        519876        3071      2.763213 2010-01-01      2011-01-09   \n",
       "\n",
       "   transaction_count d_atclevel1code  \n",
       "0                  2               C  \n",
       "1                  2               C  \n",
       "2                  1               A  "
      ]
     },
     "execution_count": 26,
     "metadata": {},
     "output_type": "execute_result"
    }
   ],
   "source": [
    "query = \"\"\"\\\n",
    "SELECT\n",
    "  STRING(t.store_id) AS store_id\n",
    "  , p.patient_id\n",
    "  , p.postcode\n",
    "  , pcd.distance\n",
    "  , DATE(STRFTIME_UTC_USEC(DATE(t.prescription_week), \"%Y-%m-01\")) AS year_month\n",
    "  , GROUP_CONCAT(DATE(UNIQUE(t.dispense_week))) AS year_month_disp\n",
    "  , COUNT(*) AS transaction_count\n",
    "  , d.atclevel1code\n",
    "FROM\n",
    "  dthon.transactions t\n",
    "  JOIN dthon.stores_lookup s\n",
    "    ON s.store_id = t.store_id\n",
    "  JOIN dthon.drug_lookup d\n",
    "    ON d.MasterProductID = t.Drug_ID\n",
    "  JOIN dthon.patients_lookup p\n",
    "    ON t.patient_id = p.patient_id\n",
    "  JOIN dthon.postcodes pc\n",
    "    ON p.postcode = pc.postcode\n",
    "  JOIN dthon.postcode_distances pcd\n",
    "    ON p.postcode = pcd.from_postcode AND s.postcode = pcd.to_postcode\n",
    "WHERE\n",
    "  s.postcode = 3070\n",
    "GROUP BY\n",
    "  year_month\n",
    "  , p.patient_id\n",
    "  , p.postcode\n",
    "  , pcd.distance\n",
    "  , store_id\n",
    "  , d.atclevel1code\n",
    "ORDER BY\n",
    "  year_month\n",
    "  , store_id\n",
    "\"\"\"\n",
    "df_3070_p_dist = pd.read_gbq(query, project_id)\n",
    "df_3070_p_dist.year_month = pd.Series(df_3070_p_dist.year_month).apply(pd.to_datetime, format='%Y-%m')\n",
    "df_3070_p_dist.head(3)"
   ]
  },
  {
   "cell_type": "code",
   "execution_count": 27,
   "metadata": {},
   "outputs": [
    {
     "data": {
      "text/html": [
       "<div>\n",
       "<table border=\"1\" class=\"dataframe\">\n",
       "  <thead>\n",
       "    <tr style=\"text-align: right;\">\n",
       "      <th></th>\n",
       "      <th></th>\n",
       "      <th>p_postcode</th>\n",
       "      <th>pcd_distance</th>\n",
       "      <th>transaction_count</th>\n",
       "    </tr>\n",
       "    <tr>\n",
       "      <th>p_patient_id</th>\n",
       "      <th>store_id</th>\n",
       "      <th></th>\n",
       "      <th></th>\n",
       "      <th></th>\n",
       "    </tr>\n",
       "  </thead>\n",
       "  <tbody>\n",
       "    <tr>\n",
       "      <th rowspan=\"3\" valign=\"top\">516505</th>\n",
       "      <th>1641</th>\n",
       "      <td>24560</td>\n",
       "      <td>0</td>\n",
       "      <td>34</td>\n",
       "    </tr>\n",
       "    <tr>\n",
       "      <th>2800</th>\n",
       "      <td>12280</td>\n",
       "      <td>0</td>\n",
       "      <td>28</td>\n",
       "    </tr>\n",
       "    <tr>\n",
       "      <th>943</th>\n",
       "      <td>3070</td>\n",
       "      <td>0</td>\n",
       "      <td>2</td>\n",
       "    </tr>\n",
       "  </tbody>\n",
       "</table>\n",
       "</div>"
      ],
      "text/plain": [
       "                       p_postcode  pcd_distance  transaction_count\n",
       "p_patient_id store_id                                             \n",
       "516505       1641           24560             0                 34\n",
       "             2800           12280             0                 28\n",
       "             943             3070             0                  2"
      ]
     },
     "execution_count": 27,
     "metadata": {},
     "output_type": "execute_result"
    }
   ],
   "source": [
    "df_3070_p_dist[df_3070_p_dist.store_id == '2800'].groupby('p_patient_id').p_patient_id.unique()\n",
    "df_3070_p_dist\\\n",
    "    [df_3070_p_dist['p_patient_id'] == 516505 ]\\\n",
    "    .groupby(['p_patient_id', 'store_id'])\\\n",
    "    .sum()\n",
    "# pd.Series.unique()\n",
    "# df_3070_p_dist[df_3070_p_dist.t_store_id == 2800].groupby('p_patient_id').p_patient_id.unique()"
   ]
  },
  {
   "cell_type": "code",
   "execution_count": 28,
   "metadata": {},
   "outputs": [
    {
     "data": {
      "image/png": "[encoded data removed]",
      "text/plain": [
       "<matplotlib.figure.Figure at 0x10edd0320>"
      ]
     },
     "metadata": {},
     "output_type": "display_data"
    },
    {
     "data": {
      "text/plain": [
       "<ggplot: (-9223372036570895528)>"
      ]
     },
     "execution_count": 28,
     "metadata": {},
     "output_type": "execute_result"
    }
   ],
   "source": [
    "ggplot(\n",
    "    aes(x='year_month', y='transaction_count', colour='store_id'),\n",
    "    data=df_3070_p_dist[df_3070_p_dist['p_patient_id'] == 516505]\\\n",
    "    [['store_id', 'transaction_count', 'year_month']]) +\\\n",
    "    geom_line()"
   ]
  }
 ],
 "metadata": {
  "kernelspec": {
   "display_name": "Python 3",
   "language": "python",
   "name": "python3"
  },
  "language_info": {
   "codemirror_mode": {
    "name": "ipython",
    "version": 3
   },
   "file_extension": ".py",
   "mimetype": "text/x-python",
   "name": "python",
   "nbconvert_exporter": "python",
   "pygments_lexer": "ipython3",
   "version": "3.5.1"
  }
 },
 "nbformat": 4,
 "nbformat_minor": 2
}
